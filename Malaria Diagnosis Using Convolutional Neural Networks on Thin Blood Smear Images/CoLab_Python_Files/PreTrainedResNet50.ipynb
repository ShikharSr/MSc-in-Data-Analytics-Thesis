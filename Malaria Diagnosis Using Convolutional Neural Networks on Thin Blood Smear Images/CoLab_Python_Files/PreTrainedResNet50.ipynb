{
  "nbformat": 4,
  "nbformat_minor": 0,
  "metadata": {
    "colab": {
      "name": "PreTrainedResNet50.ipynb",
      "version": "0.3.2",
      "provenance": [],
      "collapsed_sections": [
        "P8Lo0ve_HCya",
        "YjP1BuCnP7W2"
      ],
      "toc_visible": true,
      "machine_shape": "hm"
    },
    "kernelspec": {
      "name": "python3",
      "display_name": "Python 3"
    },
    "accelerator": "GPU"
  },
  "cells": [
    {
      "cell_type": "markdown",
      "metadata": {
        "id": "P8Lo0ve_HCya",
        "colab_type": "text"
      },
      "source": [
        "# **Image Pre-Processing**\n",
        "\n"
      ]
    },
    {
      "cell_type": "markdown",
      "metadata": {
        "id": "1wCYmRUMXSmV",
        "colab_type": "text"
      },
      "source": [
        "Defining necessary variables and importing libraries"
      ]
    },
    {
      "cell_type": "code",
      "metadata": {
        "id": "DAea1-wTG8ZI",
        "colab_type": "code",
        "colab": {}
      },
      "source": [
        "import keras\n",
        "from keras.models import Sequential\n",
        "from keras.layers import Dense, Dropout, Flatten\n",
        "from keras.layers import Conv2D, MaxPooling2D\n",
        "from keras.utils import to_categorical\n",
        "from keras.preprocessing import image\n",
        "from keras.applications import ResNet50\n",
        "from keras.models import Model\n",
        "from keras.layers import GlobalAveragePooling2D, Dense, Dropout,Activation,Flatten\n",
        "import numpy as np\n",
        "import pandas as pd\n",
        "import matplotlib.pyplot as plt\n",
        "from sklearn.model_selection import train_test_split\n",
        "from sklearn.metrics import accuracy_score, confusion_matrix, classification_report\n",
        "from sklearn import metrics\n",
        "from keras.layers import Input\n",
        "from tqdm import tqdm\n",
        "from keras.applications.imagenet_utils import preprocess_input\n",
        "import time\n",
        "import itertools\n",
        "import pandas as pd\n",
        "from keras.preprocessing import image\n",
        "from PIL import Image, ImageDraw\n",
        "import cv2\n",
        "from scipy import ndimage\n",
        "import csv\n",
        "\n",
        "output = \"/content/drive/My Drive/Thesis/Processed_Images\"\n",
        "angles1 = [36,50,72,108,144,180,216,252,288,324]\n",
        "angles2 = [144,180]\n",
        "angles3 = [72]\n",
        "width = 300\n",
        "height = 300"
      ],
      "execution_count": 0,
      "outputs": []
    },
    {
      "cell_type": "markdown",
      "metadata": {
        "id": "JJxaWulMMx9L",
        "colab_type": "text"
      },
      "source": [
        "Unzipping original image folder (this has to be done everytime the session restarts)"
      ]
    },
    {
      "cell_type": "code",
      "metadata": {
        "id": "kImWK8uDMxNI",
        "colab_type": "code",
        "colab": {}
      },
      "source": [
        "!unzip /content/drive/My\\ Drive/Thesis/images.zip"
      ],
      "execution_count": 0,
      "outputs": []
    },
    {
      "cell_type": "markdown",
      "metadata": {
        "id": "kp2W3bIuJTt9",
        "colab_type": "text"
      },
      "source": [
        "Masking and rotating **training images** belonging to class '0' (uninfected)"
      ]
    },
    {
      "cell_type": "code",
      "metadata": {
        "id": "2I3iG-u2CR7F",
        "colab_type": "code",
        "colab": {}
      },
      "source": [
        "csv_file = pd.read_csv('/content/drive/My Drive/Thesis/CNN/Train_Cat.csv')\n",
        "csv_file = pd.DataFrame(csv_file)\n",
        "csv_file = csv_file.query('Category==0')\n",
        "\n",
        "for i in csv_file['image']:\n",
        "    img = image.load_img('/content/images/'+str(i)+'.png', target_size=(224,224,3), grayscale=False)\n",
        "    bigsize = (img.size[0] * 3, img.size[1] * 3)\n",
        "    mask = Image.new('L',bigsize, 0)\n",
        "    draw = ImageDraw.Draw(mask) \n",
        "    draw.ellipse((0, 0) + bigsize, fill=255)\n",
        "    mask = mask.resize(img.size, Image.ANTIALIAS)\n",
        "    img.putalpha(mask)\n",
        "    for angle in angles1:\n",
        "        rotated = ndimage.rotate(img, angle)\n",
        "        out = os.path.join(output, str(angle)+'_'+str(i)+'.png')\n",
        "        cv2.imwrite(out, rotated)"
      ],
      "execution_count": 0,
      "outputs": []
    },
    {
      "cell_type": "markdown",
      "metadata": {
        "id": "cHWfQqhPKJNO",
        "colab_type": "text"
      },
      "source": [
        "Masking and rotating **training images** belonging to class '1' (infected)"
      ]
    },
    {
      "cell_type": "code",
      "metadata": {
        "id": "u5kWSezGKH6N",
        "colab_type": "code",
        "colab": {}
      },
      "source": [
        "csv_file = pd.read_csv('/content/drive/My Drive/Thesis/CNN/Train_Cat.csv')\n",
        "csv_file = pd.DataFrame(csv_file)\n",
        "csv_file = csv_file.query('Category==1')\n",
        "\n",
        "for i in csv_file['image']:\n",
        "    img = image.load_img('/content/images/'+str(i)+'.png', target_size=(224,224,3), grayscale=False)\n",
        "    bigsize = (img.size[0] * 3, img.size[1] * 3)\n",
        "    mask = Image.new('L',bigsize, 0)\n",
        "    draw = ImageDraw.Draw(mask) \n",
        "    draw.ellipse((0, 0) + bigsize, fill=255)\n",
        "    mask = mask.resize(img.size, Image.ANTIALIAS)\n",
        "    img.putalpha(mask)\n",
        "    for angle in angles2:\n",
        "        rotated = ndimage.rotate(img, angle)\n",
        "        out = os.path.join(output, str(angle)+'_'+str(i)+'.png')\n",
        "        cv2.imwrite(out, rotated)"
      ],
      "execution_count": 0,
      "outputs": []
    },
    {
      "cell_type": "markdown",
      "metadata": {
        "id": "B0hS2gR0KlSM",
        "colab_type": "text"
      },
      "source": [
        "Masking and rotating **test images** belonging to class '0' (uninfected)"
      ]
    },
    {
      "cell_type": "code",
      "metadata": {
        "id": "Ct9BYUavKgho",
        "colab_type": "code",
        "colab": {}
      },
      "source": [
        "csv_file = pd.read_csv('/content/drive/My Drive/Thesis/CNN/Test_Cat.csv')\n",
        "csv_file = pd.DataFrame(csv_file)\n",
        "csv_file = csv_file.query('Category==0')\n",
        "\n",
        "for i in csv_file['image']:\n",
        "    img = image.load_img('/content/images/'+str(i)+'.png', target_size=(224,224,3), grayscale=False)\n",
        "    bigsize = (img.size[0] * 3, img.size[1] * 3)\n",
        "    mask = Image.new('L',bigsize, 0)\n",
        "    draw = ImageDraw.Draw(mask) \n",
        "    draw.ellipse((0, 0) + bigsize, fill=255)\n",
        "    mask = mask.resize(img.size, Image.ANTIALIAS)\n",
        "    img.putalpha(mask)\n",
        "    for angle in angles1:\n",
        "        rotated = ndimage.rotate(img, angle)\n",
        "        out = os.path.join(output, str(angle)+'_'+str(i)+'.png')\n",
        "        cv2.imwrite(out, rotated)"
      ],
      "execution_count": 0,
      "outputs": []
    },
    {
      "cell_type": "markdown",
      "metadata": {
        "id": "ZVFQQkTOK7tA",
        "colab_type": "text"
      },
      "source": [
        "Masking and rotating **test images** belonging to class '1' (infected)"
      ]
    },
    {
      "cell_type": "code",
      "metadata": {
        "id": "WJgNcf61K6ci",
        "colab_type": "code",
        "colab": {}
      },
      "source": [
        "csv_file = pd.read_csv('/content/drive/My Drive/Thesis/CNN/Test_Cat.csv')\n",
        "csv_file = pd.DataFrame(csv_file)\n",
        "csv_file = csv_file.query('Category==1')\n",
        "\n",
        "for i in csv_file['image']:\n",
        "    img = image.load_img('/content/images/'+str(i)+'.png', target_size=(224,224,3), grayscale=False)\n",
        "    bigsize = (img.size[0] * 3, img.size[1] * 3)\n",
        "    mask = Image.new('L',bigsize, 0)\n",
        "    draw = ImageDraw.Draw(mask) \n",
        "    draw.ellipse((0, 0) + bigsize, fill=255)\n",
        "    mask = mask.resize(img.size, Image.ANTIALIAS)\n",
        "    img.putalpha(mask)\n",
        "    for angle in angles3:\n",
        "        rotated = ndimage.rotate(img, angle)\n",
        "        out = os.path.join(output, str(angle)+'_'+str(i)+'.png')\n",
        "        cv2.imwrite(out, rotated)"
      ],
      "execution_count": 0,
      "outputs": []
    },
    {
      "cell_type": "markdown",
      "metadata": {
        "id": "YjP1BuCnP7W2",
        "colab_type": "text"
      },
      "source": [
        "# **Modifying csv files as per new image name with angle concatenated at the front**\n",
        "\n",
        "The output form this code returns just the image names concatenated with respective angle. Vlookup was then applied in excel to original file to fetch respective classes."
      ]
    },
    {
      "cell_type": "markdown",
      "metadata": {
        "id": "Pkq3sOGRQwF1",
        "colab_type": "text"
      },
      "source": [
        "Modifying trainng csv file"
      ]
    },
    {
      "cell_type": "code",
      "metadata": {
        "id": "AyCAJACHPx-p",
        "colab_type": "code",
        "colab": {}
      },
      "source": [
        "with open('/content/drive/My Drive/Thesis/CNN/Train_Cat.csv','r') as readfile:\n",
        "    reader = csv.reader(readfile, delimiter=',')\n",
        "    next(reader)\n",
        "    with open('/content/drive/My Drive/Thesis/Train_Categorized.csv', 'w', newline='') as writefile:\n",
        "        writer = csv.writer(writefile, delimiter=',')\n",
        "        for line in reader:\n",
        "            if line[1] == str(0):\n",
        "                for x in angles1:\n",
        "                    writer.writerow([str(x)+'_'+line[0]])\n",
        "            else:\n",
        "                for a in angles2:\n",
        "                    writer.writerow([str(a)+'_'+line[0]])"
      ],
      "execution_count": 0,
      "outputs": []
    },
    {
      "cell_type": "markdown",
      "metadata": {
        "id": "Z77u_Ym8RlE1",
        "colab_type": "text"
      },
      "source": [
        "Modifying test csv file"
      ]
    },
    {
      "cell_type": "code",
      "metadata": {
        "id": "bb9VnJcLRiub",
        "colab_type": "code",
        "colab": {}
      },
      "source": [
        "with open('/content/drive/My Drive/Thesis/CNN/Test_Cat.csv','r') as readfile:\n",
        "    reader = csv.reader(readfile, delimiter=',')\n",
        "    next(reader)\n",
        "    with open('/content/drive/My Drive/Thesis/Test_Categorized.csv', 'w', newline='') as writefile:\n",
        "        writer = csv.writer(writefile, delimiter=',')\n",
        "        for line in reader:\n",
        "            if line[1] == str(0):\n",
        "                for x in angles1:\n",
        "                    writer.writerow([str(x)+'_'+line[0]])\n",
        "            else:\n",
        "                for a in angles3:\n",
        "                    writer.writerow([str(a)+'_'+line[0]])"
      ],
      "execution_count": 0,
      "outputs": []
    },
    {
      "cell_type": "markdown",
      "metadata": {
        "id": "FSPGwg_mfJD3",
        "colab_type": "text"
      },
      "source": [
        "# **ResNet-50**"
      ]
    },
    {
      "cell_type": "markdown",
      "metadata": {
        "id": "oKYZ-gNrfnbc",
        "colab_type": "text"
      },
      "source": [
        "Loading and storing training images in numpy array as well as changing shape of array as required by ResNet-50 model"
      ]
    },
    {
      "cell_type": "code",
      "metadata": {
        "id": "J3hXpPqAfm0q",
        "colab_type": "code",
        "outputId": "985c18eb-737d-4c36-a4c6-69284f6eea15",
        "colab": {
          "base_uri": "https://localhost:8080/",
          "height": 84
        }
      },
      "source": [
        "train = pd.read_csv('/content/drive/My Drive/Thesis/Train_Categorized.csv')\n",
        "\n",
        "train_image = []\n",
        "\n",
        "for i in tqdm(range(train.shape[0])):\n",
        "    img = image.load_img('/content/drive/My Drive/Thesis/Processed_Images/'+str(train['image'][i])+'.png', target_size=(224,224,3), grayscale=False)\n",
        "    img = image.img_to_array(img)\n",
        "    img = np.expand_dims(img, axis=0)\n",
        "    img = preprocess_input(img)\n",
        "\t  #print('Input image shape:', img.shape)\n",
        "    train_image.append(img)\n",
        "    cv2.waitKey(2)\n",
        "\n",
        "X = np.array(train_image)\n",
        "\n",
        "print (X.shape)\n",
        "X=np.rollaxis(X,1,0)\n",
        "print (X.shape)\n",
        "X=X[0]\n",
        "print (X.shape)\n",
        "\n",
        "\n",
        "y=train['category'].values\n",
        "y = to_categorical(y)"
      ],
      "execution_count": 0,
      "outputs": [
        {
          "output_type": "stream",
          "text": [
            "100%|██████████| 3928/3928 [00:27<00:00, 142.31it/s]\n"
          ],
          "name": "stderr"
        },
        {
          "output_type": "stream",
          "text": [
            "(3928, 1, 224, 224, 3)\n",
            "(1, 3928, 224, 224, 3)\n",
            "(3928, 224, 224, 3)\n"
          ],
          "name": "stdout"
        }
      ]
    },
    {
      "cell_type": "markdown",
      "metadata": {
        "id": "lQcyQD7ah74b",
        "colab_type": "text"
      },
      "source": [
        "Preparing training and validation sets"
      ]
    },
    {
      "cell_type": "code",
      "metadata": {
        "id": "cN2tT3g4h7JA",
        "colab_type": "code",
        "colab": {}
      },
      "source": [
        "X_train, X_test, y_train, y_test = train_test_split(X, y, random_state=42, test_size=0.2)"
      ],
      "execution_count": 0,
      "outputs": []
    },
    {
      "cell_type": "markdown",
      "metadata": {
        "id": "pllhDZJqibi9",
        "colab_type": "text"
      },
      "source": [
        "Building a pre-trained ResNet-50 model, adding 6 new layers in it and making only those layers trainable"
      ]
    },
    {
      "cell_type": "code",
      "metadata": {
        "id": "JYTZm9D3iTm1",
        "colab_type": "code",
        "outputId": "ba4fa266-b84a-40ec-afb0-97fe7eaa179e",
        "colab": {
          "base_uri": "https://localhost:8080/",
          "height": 70
        }
      },
      "source": [
        "num_classes = 2\n",
        "\n",
        "image_input = Input(shape=(224, 224, 3))\n",
        "\n",
        "model = ResNet50(weights='imagenet',include_top=False)\n",
        "\n",
        "last_layer = model.output\n",
        "x = GlobalAveragePooling2D()(last_layer)\n",
        "# add fully-connected & dropout layers\n",
        "x = Dense(512, activation='softmax',name='fc-1')(x)\n",
        "x = Dropout(0.5)(x)\n",
        "x = Dense(256, activation='relu',name='fc-2')(x)\n",
        "x = Dropout(0.5)(x)\n",
        "# a softmax layer for 2 classes\n",
        "out = Dense(num_classes, activation='softmax',name='output_layer')(x)\n",
        "\n",
        "# this is the model we will train\n",
        "custom_resnet_model2 = Model(inputs=model.input, outputs=out)\n",
        "\n",
        "for layer in custom_resnet_model2.layers[:-6]:\n",
        "\tlayer.trainable = False\n",
        "\n",
        "#custom_resnet_model2.summary()"
      ],
      "execution_count": 0,
      "outputs": [
        {
          "output_type": "stream",
          "text": [
            "/usr/local/lib/python3.6/dist-packages/keras_applications/resnet50.py:265: UserWarning: The output shape of `ResNet50(include_top=False)` has been changed since Keras 2.2.0.\n",
            "  warnings.warn('The output shape of `ResNet50(include_top=False)` '\n"
          ],
          "name": "stderr"
        }
      ]
    },
    {
      "cell_type": "markdown",
      "metadata": {
        "id": "kLuexMM2kJwc",
        "colab_type": "text"
      },
      "source": [
        "Compiling and fitting the model for 20 epochs and recording the training time"
      ]
    },
    {
      "cell_type": "code",
      "metadata": {
        "id": "bNOWZhVdkISz",
        "colab_type": "code",
        "outputId": "9a8d0e24-bd24-4178-cb1e-ee4681ed8852",
        "colab": {
          "base_uri": "https://localhost:8080/",
          "height": 722
        }
      },
      "source": [
        "custom_resnet_model2.compile(loss='categorical_crossentropy',optimizer='sgd',metrics=['accuracy'])\n",
        "t=time.time()\n",
        "hist = custom_resnet_model2.fit(X_train, y_train, batch_size=32, epochs=20, verbose=1, validation_data=(X_test, y_test))\n",
        "print('Training time: %s' % (t - time.time()))"
      ],
      "execution_count": 0,
      "outputs": [
        {
          "output_type": "stream",
          "text": [
            "Train on 3142 samples, validate on 786 samples\n",
            "Epoch 1/20\n",
            "3142/3142 [==============================] - 21s 7ms/step - loss: 0.6920 - acc: 0.5248 - val_loss: 0.6957 - val_acc: 0.4758\n",
            "Epoch 2/20\n",
            "3142/3142 [==============================] - 16s 5ms/step - loss: 0.6907 - acc: 0.5296 - val_loss: 0.6970 - val_acc: 0.4758\n",
            "Epoch 3/20\n",
            "3142/3142 [==============================] - 16s 5ms/step - loss: 0.6904 - acc: 0.5296 - val_loss: 0.6971 - val_acc: 0.4758\n",
            "Epoch 4/20\n",
            "3142/3142 [==============================] - 16s 5ms/step - loss: 0.6902 - acc: 0.5296 - val_loss: 0.6967 - val_acc: 0.4758\n",
            "Epoch 5/20\n",
            "3142/3142 [==============================] - 16s 5ms/step - loss: 0.6900 - acc: 0.5296 - val_loss: 0.6964 - val_acc: 0.4758\n",
            "Epoch 6/20\n",
            "3142/3142 [==============================] - 16s 5ms/step - loss: 0.6899 - acc: 0.5296 - val_loss: 0.6967 - val_acc: 0.4758\n",
            "Epoch 7/20\n",
            "3142/3142 [==============================] - 16s 5ms/step - loss: 0.6896 - acc: 0.5296 - val_loss: 0.6965 - val_acc: 0.4758\n",
            "Epoch 8/20\n",
            "3142/3142 [==============================] - 16s 5ms/step - loss: 0.6894 - acc: 0.5296 - val_loss: 0.6963 - val_acc: 0.4758\n",
            "Epoch 9/20\n",
            "3142/3142 [==============================] - 16s 5ms/step - loss: 0.6892 - acc: 0.5296 - val_loss: 0.6959 - val_acc: 0.4758\n",
            "Epoch 10/20\n",
            "3142/3142 [==============================] - 16s 5ms/step - loss: 0.6891 - acc: 0.5296 - val_loss: 0.6956 - val_acc: 0.4758\n",
            "Epoch 11/20\n",
            "3142/3142 [==============================] - 16s 5ms/step - loss: 0.6888 - acc: 0.5296 - val_loss: 0.6957 - val_acc: 0.4758\n",
            "Epoch 12/20\n",
            "3142/3142 [==============================] - 16s 5ms/step - loss: 0.6884 - acc: 0.5296 - val_loss: 0.6957 - val_acc: 0.4758\n",
            "Epoch 13/20\n",
            "3142/3142 [==============================] - 16s 5ms/step - loss: 0.6883 - acc: 0.5296 - val_loss: 0.6949 - val_acc: 0.4758\n",
            "Epoch 14/20\n",
            "3142/3142 [==============================] - 16s 5ms/step - loss: 0.6880 - acc: 0.5296 - val_loss: 0.6955 - val_acc: 0.4758\n",
            "Epoch 15/20\n",
            "3142/3142 [==============================] - 16s 5ms/step - loss: 0.6876 - acc: 0.5296 - val_loss: 0.6937 - val_acc: 0.4758\n",
            "Epoch 16/20\n",
            "3142/3142 [==============================] - 16s 5ms/step - loss: 0.6872 - acc: 0.5296 - val_loss: 0.6929 - val_acc: 0.4758\n",
            "Epoch 17/20\n",
            "3142/3142 [==============================] - 16s 5ms/step - loss: 0.6863 - acc: 0.5296 - val_loss: 0.6912 - val_acc: 0.4758\n",
            "Epoch 18/20\n",
            "3142/3142 [==============================] - 16s 5ms/step - loss: 0.6851 - acc: 0.5302 - val_loss: 0.6897 - val_acc: 0.4758\n",
            "Epoch 19/20\n",
            "3142/3142 [==============================] - 16s 5ms/step - loss: 0.6832 - acc: 0.5331 - val_loss: 0.6873 - val_acc: 0.4758\n",
            "Epoch 20/20\n",
            "3142/3142 [==============================] - 16s 5ms/step - loss: 0.6782 - acc: 0.5369 - val_loss: 0.6809 - val_acc: 0.5051\n",
            "Training time: -318.2775194644928\n"
          ],
          "name": "stdout"
        }
      ]
    },
    {
      "cell_type": "markdown",
      "metadata": {
        "id": "TMcA6h0hkYxh",
        "colab_type": "text"
      },
      "source": [
        "Plotting training accuracy and loss and validation accuracy and loss"
      ]
    },
    {
      "cell_type": "code",
      "metadata": {
        "id": "MGahdzkQkXpm",
        "colab_type": "code",
        "outputId": "919f0b3c-05ab-4f93-e2bc-5e148a32159e",
        "colab": {
          "base_uri": "https://localhost:8080/",
          "height": 574
        }
      },
      "source": [
        "plt.plot(hist.history['acc'])\n",
        "plt.plot(hist.history['val_acc'])\n",
        "plt.title('model accuracy')\n",
        "plt.ylabel('accuracy')\n",
        "plt.xlabel('epoch')\n",
        "plt.legend(['train', 'validate'], loc='upper left')\n",
        "plt.show()\n",
        "\n",
        "plt.plot(hist.history['loss'])\n",
        "plt.plot(hist.history['val_loss'])\n",
        "plt.title('model loss')\n",
        "plt.ylabel('loss')\n",
        "plt.xlabel('epoch')\n",
        "plt.legend(['train', 'validate'], loc='upper left')\n",
        "plt.show()"
      ],
      "execution_count": 0,
      "outputs": [
        {
          "output_type": "display_data",
          "data": {
            "image/png": "[encoded data removed]",
            "text/plain": [
              "<Figure size 432x288 with 1 Axes>"
            ]
          },
          "metadata": {
            "tags": []
          }
        },
        {
          "output_type": "display_data",
          "data": {
            "image/png": "[encoded data removed]",
            "text/plain": [
              "<Figure size 432x288 with 1 Axes>"
            ]
          },
          "metadata": {
            "tags": []
          }
        }
      ]
    },
    {
      "cell_type": "markdown",
      "metadata": {
        "id": "idelC352k4hu",
        "colab_type": "text"
      },
      "source": [
        "Loading and storing test images in numpy array as well as changing shape of array as required by ResNet-50 model"
      ]
    },
    {
      "cell_type": "code",
      "metadata": {
        "id": "SEhLHfoqk2jl",
        "colab_type": "code",
        "outputId": "979ed703-2d83-4035-a9de-390e44551736",
        "colab": {
          "base_uri": "https://localhost:8080/",
          "height": 84
        }
      },
      "source": [
        "test = pd.read_csv('/content/drive/My Drive/Thesis/Test_Categorized.csv')\n",
        "\n",
        "test_image = []\n",
        "\n",
        "for i in tqdm(range(test.shape[0])):\n",
        "    img = image.load_img('/content/drive/My Drive/Thesis/Processed_Images/'+str(test['image'][i])+'.png', target_size=(224,224,3), grayscale=False)\n",
        "    img = image.img_to_array(img)\n",
        "    img = np.expand_dims(img, axis=0)\n",
        "    img = preprocess_input(img)\n",
        "\t  #print('Input image shape:', img.shape)\n",
        "    test_image.append(img)\n",
        "    cv2.waitKey(2)\n",
        "\n",
        "test_set = np.array(test_image)\n",
        "\n",
        "print (test_set.shape)\n",
        "test_set=np.rollaxis(test_set,1,0)\n",
        "print (test_set.shape)\n",
        "test_set=test_set[0]\n",
        "print (test_set.shape)\n",
        "\n",
        "x=test['category'].values\n",
        "x = to_categorical(x)"
      ],
      "execution_count": 0,
      "outputs": [
        {
          "output_type": "stream",
          "text": [
            "100%|██████████| 147/147 [00:00<00:00, 188.89it/s]\n"
          ],
          "name": "stderr"
        },
        {
          "output_type": "stream",
          "text": [
            "(147, 1, 224, 224, 3)\n",
            "(1, 147, 224, 224, 3)\n",
            "(147, 224, 224, 3)\n"
          ],
          "name": "stdout"
        }
      ]
    },
    {
      "cell_type": "markdown",
      "metadata": {
        "id": "q-cdKtAPlHsV",
        "colab_type": "text"
      },
      "source": [
        "Making predictions"
      ]
    },
    {
      "cell_type": "code",
      "metadata": {
        "id": "aIJ9yo8MlGzB",
        "colab_type": "code",
        "outputId": "dec516dc-b912-4ece-a976-6b9e7dee8ea0",
        "colab": {
          "base_uri": "https://localhost:8080/",
          "height": 34
        }
      },
      "source": [
        "prediction = custom_resnet_model2.predict(test_set,verbose=0)\n",
        "prediction = np.argmax(prediction,axis=1)\n",
        "accuracy = accuracy_score(test['category'],prediction)\n",
        "print('Accuracy: ', accuracy*100, '%')"
      ],
      "execution_count": 0,
      "outputs": [
        {
          "output_type": "stream",
          "text": [
            "Accuracy:  79.59183673469387 %\n"
          ],
          "name": "stdout"
        }
      ]
    },
    {
      "cell_type": "markdown",
      "metadata": {
        "id": "nPbFoCHnlWvk",
        "colab_type": "text"
      },
      "source": [
        "Function for confusion matrix"
      ]
    },
    {
      "cell_type": "code",
      "metadata": {
        "id": "9yHZ7AE3lWAc",
        "colab_type": "code",
        "colab": {}
      },
      "source": [
        "def plot_confusion_matrix(cm, classes,\n",
        "                          normalize=False,\n",
        "                          title='Confusion matrix',\n",
        "                          cmap=plt.cm.Blues):\n",
        "    \"\"\"\n",
        "    This function prints and plots the confusion matrix.\n",
        "    Normalization can be applied by setting `normalize=True`.\n",
        "    \"\"\"\n",
        "    if normalize:\n",
        "        cm = cm.astype('float') / cm.sum(axis=1)[:, np.newaxis]\n",
        "        print(\"Normalized confusion matrix\")\n",
        "    else:\n",
        "        print('Confusion matrix, without normalization')\n",
        "\n",
        "    print(cm)\n",
        "\n",
        "    plt.imshow(cm, interpolation='nearest', cmap=cmap)\n",
        "    plt.title(title)\n",
        "    plt.colorbar()\n",
        "    tick_marks = np.arange(len(classes))\n",
        "    plt.xticks(tick_marks, classes, rotation=45)\n",
        "    plt.yticks(tick_marks, classes)\n",
        "\n",
        "    fmt = '.2f' if normalize else 'd'\n",
        "    thresh = cm.max() / 2.\n",
        "    for i, j in itertools.product(range(cm.shape[0]), range(cm.shape[1])):\n",
        "        plt.text(j, i, format(cm[i, j], fmt),\n",
        "                 horizontalalignment=\"center\",\n",
        "                 color=\"white\" if cm[i, j] > thresh else \"black\")\n",
        "\n",
        "    plt.ylabel('True label')\n",
        "    plt.xlabel('Predicted label')\n",
        "    plt.tight_layout()\n"
      ],
      "execution_count": 0,
      "outputs": []
    },
    {
      "cell_type": "markdown",
      "metadata": {
        "id": "O-1NFufplf-M",
        "colab_type": "text"
      },
      "source": [
        "Computing confusion matrix"
      ]
    },
    {
      "cell_type": "code",
      "metadata": {
        "id": "78yt3KcIlfg7",
        "colab_type": "code",
        "colab": {}
      },
      "source": [
        "cnf_matrix = confusion_matrix(test['category'],prediction)\n",
        "np.set_printoptions(precision=2)"
      ],
      "execution_count": 0,
      "outputs": []
    },
    {
      "cell_type": "markdown",
      "metadata": {
        "id": "cDRa5JPAlmSq",
        "colab_type": "text"
      },
      "source": [
        "Plotting confusion matrix and calculating accuracy, precision, recall and F1-Score"
      ]
    },
    {
      "cell_type": "code",
      "metadata": {
        "id": "U8CvAQHUvhTV",
        "colab_type": "code",
        "outputId": "f0d568e9-6517-4523-eb06-65ff9deaecd3",
        "colab": {
          "base_uri": "https://localhost:8080/",
          "height": 552
        }
      },
      "source": [
        "plt.figure()\n",
        "plot_confusion_matrix(cnf_matrix, classes=['Uninfected','Infected'],\n",
        "                      title='Confusion matrix, without normalization')\n",
        "\n",
        "print(classification_report(test['category'],prediction))"
      ],
      "execution_count": 0,
      "outputs": [
        {
          "output_type": "stream",
          "text": [
            "Confusion matrix, without normalization\n",
            "[[  0  30]\n",
            " [  0 117]]\n",
            "              precision    recall  f1-score   support\n",
            "\n",
            "           0       0.00      0.00      0.00        30\n",
            "           1       0.80      1.00      0.89       117\n",
            "\n",
            "    accuracy                           0.80       147\n",
            "   macro avg       0.40      0.50      0.44       147\n",
            "weighted avg       0.63      0.80      0.71       147\n",
            "\n"
          ],
          "name": "stdout"
        },
        {
          "output_type": "stream",
          "text": [
            "/usr/local/lib/python3.6/dist-packages/sklearn/metrics/classification.py:1437: UndefinedMetricWarning: Precision and F-score are ill-defined and being set to 0.0 in labels with no predicted samples.\n",
            "  'precision', 'predicted', average, warn_for)\n"
          ],
          "name": "stderr"
        },
        {
          "output_type": "display_data",
          "data": {
            "image/png": "[encoded data removed]",
            "text/plain": [
              "<Figure size 432x288 with 2 Axes>"
            ]
          },
          "metadata": {
            "tags": []
          }
        }
      ]
    }
  ]
}